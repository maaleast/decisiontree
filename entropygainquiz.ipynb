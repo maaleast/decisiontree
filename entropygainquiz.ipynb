{
  "nbformat": 4,
  "nbformat_minor": 0,
  "metadata": {
    "colab": {
      "provenance": []
    },
    "kernelspec": {
      "name": "python3",
      "display_name": "Python 3"
    },
    "language_info": {
      "name": "python"
    }
  },
  "cells": [
    {
      "cell_type": "code",
      "source": [
        "import pandas as pd\n",
        "import numpy as np\n"
      ],
      "metadata": {
        "id": "1KNWgBgFtac9"
      },
      "execution_count": 108,
      "outputs": []
    },
    {
      "cell_type": "code",
      "source": [
        "\n",
        "# Dataset (dimasukkan secara manual sesuai tabel di soal)\n",
        "data = {\n",
        "    \"OUTLOOK\": [\"Sunny\", \"Sunny\", \"Cloudy\", \"Rainy\", \"Rainy\", \"Rainy\", \"Cloudy\", \"Sunny\", \"Sunny\", \"Rainy\", \"Sunny\", \"Cloudy\", \"Cloudy\", \"Rainy\"],\n",
        "    \"TEMPERATURE\": [\"Hot\", \"Hot\", \"Hot\", \"Mild\", \"Cool\", \"Cool\", \"Cool\", \"Mild\", \"Cool\", \"Mild\", \"Mild\", \"Mild\", \"Hot\", \"Mild\"],\n",
        "    \"HUMIDITY\": [\"High\", \"High\", \"High\", \"High\", \"Normal\", \"Normal\", \"Normal\", \"High\", \"Normal\", \"Normal\", \"Normal\", \"High\", \"Normal\", \"High\"],\n",
        "    \"WINDY\": [\"No\", \"Yes\", \"No\", \"No\", \"No\", \"Yes\", \"Yes\", \"No\", \"No\", \"No\", \"Yes\", \"Yes\", \"No\", \"Yes\"],\n",
        "    \"PLAY\": [\"Don't Play\", \"Don't Play\", \"Play\", \"Play\", \"Play\", \"Don't Play\", \"Play\", \"Don't Play\", \"Play\", \"Play\", \"Play\", \"Play\", \"Play\", \"Don't Play\"]\n",
        "}\n",
        "df = pd.DataFrame(data)"
      ],
      "metadata": {
        "id": "ry-n8apjtdlH"
      },
      "execution_count": 109,
      "outputs": []
    },
    {
      "cell_type": "code",
      "source": [
        "# Fungsi untuk menghitung entropy\n",
        "def entropy(target_col):\n",
        "    elements, counts = np.unique(target_col, return_counts=True)\n",
        "    entropy_value = -np.sum((counts / np.sum(counts)) * np.log2(counts / np.sum(counts)))\n",
        "    return entropy_value\n"
      ],
      "metadata": {
        "id": "GFPQ_lrJtfde"
      },
      "execution_count": 110,
      "outputs": []
    },
    {
      "cell_type": "code",
      "source": [
        "\n",
        "# Fungsi untuk menghitung Information Gain\n",
        "def info_gain(data, split_attribute_name, target_name=\"PLAY\"):\n",
        "    # Hitung entropy data awal\n",
        "    total_entropy = entropy(data[target_name])\n",
        "\n",
        "    # Hitung entropy untuk tiap nilai atribut\n",
        "    values, counts = np.unique(data[split_attribute_name], return_counts=True)\n",
        "    weighted_entropy = np.sum(\n",
        "        [(counts[i] / np.sum(counts)) * entropy(data[data[split_attribute_name] == values[i]][target_name])\n",
        "         for i in range(len(values))]\n",
        "    )\n",
        "\n",
        "    # Hitung Information Gain\n",
        "    gain = total_entropy - weighted_entropy\n",
        "    return gain"
      ],
      "metadata": {
        "id": "6yDkQJcstjEW"
      },
      "execution_count": 111,
      "outputs": []
    },
    {
      "cell_type": "code",
      "source": [
        "# Menghitung Gain untuk setiap atribut\n",
        "attributes = [\"OUTLOOK\", \"TEMPERATURE\", \"HUMIDITY\", \"WINDY\"]\n",
        "gains = {attr: info_gain(df, attr) for attr in attributes}"
      ],
      "metadata": {
        "id": "jB2gAdtqtlBn"
      },
      "execution_count": 112,
      "outputs": []
    },
    {
      "cell_type": "code",
      "source": [
        "# Menampilkan hasil Gain\n",
        "print(\"Information Gain untuk setiap atribut:\")\n",
        "for attr, gain in gains.items():\n",
        "    print(f\"{attr}: {gain:.4f}\")"
      ],
      "metadata": {
        "colab": {
          "base_uri": "https://localhost:8080/"
        },
        "id": "k5GlJSvxtmyZ",
        "outputId": "32fba5eb-15db-43ab-be29-39fa49b3f988"
      },
      "execution_count": 113,
      "outputs": [
        {
          "output_type": "stream",
          "name": "stdout",
          "text": [
            "Information Gain untuk setiap atribut:\n",
            "OUTLOOK: 0.2467\n",
            "TEMPERATURE: 0.0292\n",
            "HUMIDITY: 0.1518\n",
            "WINDY: 0.0481\n"
          ]
        }
      ]
    },
    {
      "cell_type": "code",
      "source": [
        "# Menentukan atribut dengan Gain tertinggi\n",
        "best_attribute = max(gains, key=gains.get)\n",
        "print(f\"\\nAtribut terbaik untuk Root Node: {best_attribute}\")"
      ],
      "metadata": {
        "colab": {
          "base_uri": "https://localhost:8080/"
        },
        "id": "lsTVtFy-tozV",
        "outputId": "6a9251f3-a598-4e3e-d07a-4b84b21568a2"
      },
      "execution_count": 114,
      "outputs": [
        {
          "output_type": "stream",
          "name": "stdout",
          "text": [
            "\n",
            "Atribut terbaik untuk Root Node: OUTLOOK\n"
          ]
        }
      ]
    }
  ]
}